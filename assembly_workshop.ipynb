{
 "metadata": {
  "name": "",
  "signature": "sha256:3912acd10e28d1c04ea2fc00c3f71713b8b17d66337e8b3cb7f329d0dba160d6"
 },
 "nbformat": 3,
 "nbformat_minor": 0,
 "worksheets": [
  {
   "cells": [
    {
     "cell_type": "heading",
     "level": 1,
     "metadata": {},
     "source": [
      "COMP90014 Week 4 lab "
     ]
    },
    {
     "cell_type": "heading",
     "level": 2,
     "metadata": {},
     "source": [
      "Programming exercises: de novo assembly with De Bruijn graphs"
     ]
    },
    {
     "cell_type": "markdown",
     "metadata": {},
     "source": [
      "For this week's lab you'll be writing programs to count k-mers and to find the edges of a de Bruijn graph.\n",
      "\n",
      "**If you are new to programming**, or want to learn Python, you might want to work through the more gradual tutorial exercises <a href=\"kmer_workshop.html\">here</a> before coming back to this document. These will introduce you to concepts you need to solve the problems here.\n",
      "If you're really new to programming, you might find that you spend the whole lab session on the tutorial document. This is ok! The exercises here are incremental, so the hardest of them are really intended for experienced programmers.\n",
      "\n",
      "**If you are experienced with programming**, you can just skip straight to the exercises below, though you still might find it worth skimming through the tutorial document above."
     ]
    },
    {
     "cell_type": "heading",
     "level": 3,
     "metadata": {},
     "source": [
      "Setup"
     ]
    },
    {
     "cell_type": "markdown",
     "metadata": {},
     "source": [
      "You will need to be logged into a system that has Python installed, and a text editor so that you can edit your programs. One option is your Research Cloud instance, which you can ssh into using the address (in Putty or ssh) researcher@<your-ip-address>.\n",
      "\n",
      "Download the starter code and the example input data from\n",
      "\n",
      "http://claresloggett.github.io/comp90014_workshops/assembly_workshop_data.zip\n",
      "\n",
      "or\n",
      "\n",
      "http://claresloggett.github.io/comp90014_workshops/assembly_workshop_data.tar.gz \n",
      "\n",
      "and unzip it.\n",
      "\n",
      "Alternatively you can clone the repository and get these files plus the workshop documents, using\n",
      "\t\n",
      "    git clone https://github.com/claresloggett/comp90014_workshops -b gh-pages\n",
      "\n",
      "Any of these methods should get you a directory called assembly_workshop_data , which contains some starter code that you can edit, and a set of example input data files to check your programs."
     ]
    },
    {
     "cell_type": "heading",
     "level": 3,
     "metadata": {},
     "source": [
      "Programming challenges"
     ]
    },
    {
     "cell_type": "markdown",
     "metadata": {},
     "source": [
      "Remember that if you find these difficult or aren't sure where to start, you can try <a href=\"kmer_workshop.html\">this document</a> first.\n",
      "\n",
      "####Challenge 1\n",
      "\n",
      "Given a set of strings in a file, return all possible kmers. A starting program has been provided for you which just prints out the strings themselves, without finding the kmers. You should modify this code to print out the kmers instead. Each unique kmer should only be printed once.\n",
      "To run the starting code using the first example input, at the command line type:\n",
      "\n",
      " \tpython find_kmers.py input1a.fa 3\n",
      "\n",
      "You can try it for the various provided example input files (use ls to see them).\n",
      "To edit the file, you need a text editor - you can use nano like this:\n",
      "\n",
      "    nano find_kmers.py\n",
      "\n",
      "####Challenge 2\n",
      "\n",
      "Modify your program to also count how many times each kmer is seen, and print out this count together with the kmers. \n",
      "\n",
      "*NB: You might want to make a copy of your program, e.g.*\n",
      "\n",
      "    cp find_kmers.py count_kmers.py\n",
      "\n",
      "*and edit that instead, so that you don't overwrite your solution to Challenge 1.*\n",
      "\n",
      "Optionally: print out a kmer and its count only if the count is above some threshold. \n",
      "\n",
      "####Challenge 3\n",
      "\n",
      "Modify your program so that, after finding all unique kmers, it then finds edges between kmers. This means it should look for all (k-1) overlaps between the end of one kmer and the start of another. Print out the edges as node pairs, like so:\n",
      "\n",
      "    PIN INE\n",
      "    APP PPI\n",
      "    NES ESS\n",
      "    HAP APP\n",
      "    INE NES\n",
      "    PPI PIN\n",
      "\n",
      "**Think:** Is your method for finding edges efficient? What would happen if there were lots of kmers? If you're comparing every kmer to every other kmer, the algorithm will have $O(n^2)$, where n is the number of kmers. It's possible to do it in $O(n)$.\n",
      "\n",
      "**Optional:** drawing the graph\n",
      "When finding edges, you could just print the edges as you go, or store them in lists, or, optionally, you can use a Python library like networkx for this. To build a directed graph using networkx, try code like the following, where we add an example edge between the nodes \"HAPP\" and \"APPI\":\n",
      "\n",
      "~~~python\n",
      "import networkx\n",
      "graph = networkx.DiGraph()\n",
      "graph.add_edge(\"HAPP\",\"APPI\")\n",
      "print graph.edges()\n",
      "~~~\n",
      "\n",
      "If you build a graph usng networkx, it's also fairly easy to display it if you'd like, using networkx.draw(). Networkx will not lay out the graph very nicely unless you have Graphviz installed, but it can still be interesting to try. Try code like this:\n",
      "\n",
      "~~~python\n",
      "import networkx\n",
      "import pylab\n",
      "< ... build your graph ... >\n",
      "networkx.draw_spring(graph, node_size=1200, node_color=\"white\", node_shape=\"s\")\n",
      "pylab.savefig(\"graph.png\")\n",
      "~~~\n",
      "\n",
      "Building your graph using a graph structure like that provided by networkx also makes it much easier to carry out more advanced operations, such as extracting contigs.\n",
      "Further work\n",
      "\n",
      "If you're interested in looking at further implementations of assembly algorithms, you might want to look at the problems in the Rosalind Project's Assembly Topic: http://rosalind.info/problems/topics/genome-assembly/."
     ]
    }
   ],
   "metadata": {}
  }
 ]
}