{
 "cells": [
  {
   "cell_type": "markdown",
   "metadata": {},
   "source": [
    "# Installation (on your own computer)"
   ]
  },
  {
   "cell_type": "markdown",
   "metadata": {},
   "source": [
    "If you'd like to be able to use your own personal computer for working on this course, here are the things we recommend you install. \n",
    "\n",
    "You can also follow these instructions to install this software on the lab computers for a single-session use, but the installation won't persist between sessions. Also note that other files won't persist between sessions - any files, including notebooks, that you create on the local machine will need to be backed up elsewhere. "
   ]
  },
  {
   "cell_type": "markdown",
   "metadata": {},
   "source": [
    "## Python using Anaconda / Miniconda"
   ]
  },
  {
   "cell_type": "markdown",
   "metadata": {},
   "source": [
    "You should install Python 3 (specifically, you will probably get Python 3.6). The easiest way to get all the scientific libraries working is with conda.\n",
    "\n",
    "You can install _either_:\n",
    "\n",
    "* Anaconda : https://www.anaconda.com/download . This is a large download - over 500MB. It includes the majority of scientific libraries we'll use, so it's an easy way to get everything. Install the Python 3.6 version.\n",
    "* Miniconda : https://conda.io/miniconda.html . This is a much smaller download. After it's installed, you can use `conda` to install any specific libraries you need - this can always be done as we go. Install the Python 3.6 version.\n",
    "\n",
    "You do not need both Anaconda and Miniconda, just one.\n",
    "\n",
    "Once you have either Anaconda or Miniconda installed, you can use `conda` to install further libraries. See https://conda.io/docs/user-guide/ for documentation. \n",
    "\n",
    "Conda organises packages into \"channels\". Very often the libraries we want will be in the conda-forge channel. For instance, to install a version of numpy from the conda-forge channel, run the following at the command line:\n",
    "\n",
    "`conda install -c conda-forge numpy`\n",
    "\n",
    "By the way, conda works for non-Python packages, and there is a bioconda channel which contains many pieces of bioinformatics software. For instance you can run\n",
    "\n",
    "`conda install -c bioconda samtools`"
   ]
  },
  {
   "cell_type": "markdown",
   "metadata": {},
   "source": [
    "## Git "
   ]
  },
  {
   "cell_type": "markdown",
   "metadata": {},
   "source": [
    "Git is used to track and manipulate versions of software as it is developed, and to work collaboratively with other people when writing software. It's currently the most popular versioning tool. It is essential knowledge if you plan to develop open-source software in the bioinformatics world."
   ]
  },
  {
   "cell_type": "markdown",
   "metadata": {},
   "source": [
    "We will be making use of GitHub (http://github.com/) and it will be helpful to install git. Download the package at https://git-scm.com/downloads ."
   ]
  }
 ],
 "metadata": {
  "kernelspec": {
   "display_name": "Python 3",
   "language": "python",
   "name": "python3"
  },
  "language_info": {
   "codemirror_mode": {
    "name": "ipython",
    "version": 3
   },
   "file_extension": ".py",
   "mimetype": "text/x-python",
   "name": "python",
   "nbconvert_exporter": "python",
   "pygments_lexer": "ipython3",
   "version": "3.6.5"
  }
 },
 "nbformat": 4,
 "nbformat_minor": 2
}
